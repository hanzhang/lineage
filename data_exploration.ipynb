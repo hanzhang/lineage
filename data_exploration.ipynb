{
 "cells": [
  {
   "cell_type": "code",
   "execution_count": 63,
   "metadata": {
    "collapsed": true
   },
   "outputs": [],
   "source": [
    "import numpy as np\n",
    "import pandas as pd\n",
    "import matplotlib.pyplot as plt\n",
    "%matplotlib inline"
   ]
  },
  {
   "cell_type": "code",
   "execution_count": 8,
   "metadata": {
    "collapsed": false
   },
   "outputs": [],
   "source": [
    "dfArtist = pd.read_csv('data/artist_data.csv', names = ['id', 'name', 'type', 'gender', 'area_id'])"
   ]
  },
  {
   "cell_type": "code",
   "execution_count": 9,
   "metadata": {
    "collapsed": false
   },
   "outputs": [
    {
     "data": {
      "text/html": [
       "<div style=\"max-height:1000px;max-width:1500px;overflow:auto;\">\n",
       "<table border=\"1\" class=\"dataframe\">\n",
       "  <thead>\n",
       "    <tr style=\"text-align: right;\">\n",
       "      <th></th>\n",
       "      <th>id</th>\n",
       "      <th>name</th>\n",
       "      <th>type</th>\n",
       "      <th>gender</th>\n",
       "      <th>area_id</th>\n",
       "    </tr>\n",
       "  </thead>\n",
       "  <tbody>\n",
       "    <tr>\n",
       "      <th>0</th>\n",
       "      <td> 578352</td>\n",
       "      <td>                                     Gustav Ruppke</td>\n",
       "      <td> Person</td>\n",
       "      <td> NaN</td>\n",
       "      <td>NaN</td>\n",
       "    </tr>\n",
       "    <tr>\n",
       "      <th>1</th>\n",
       "      <td> 371203</td>\n",
       "      <td>                                       Pete Moutso</td>\n",
       "      <td> Person</td>\n",
       "      <td> NaN</td>\n",
       "      <td>NaN</td>\n",
       "    </tr>\n",
       "    <tr>\n",
       "      <th>2</th>\n",
       "      <td> 153193</td>\n",
       "      <td>                            The High Level Ranters</td>\n",
       "      <td>  Group</td>\n",
       "      <td> NaN</td>\n",
       "      <td>NaN</td>\n",
       "    </tr>\n",
       "    <tr>\n",
       "      <th>3</th>\n",
       "      <td> 449914</td>\n",
       "      <td> Sun Wenyan, Cao Jifang, Jin Zhenyao, Wang Wei,...</td>\n",
       "      <td>  Group</td>\n",
       "      <td> NaN</td>\n",
       "      <td>NaN</td>\n",
       "    </tr>\n",
       "    <tr>\n",
       "      <th>4</th>\n",
       "      <td> 449915</td>\n",
       "      <td>              Sun Wenyan, Huo Ruowei, and Dai Ning</td>\n",
       "      <td>  Group</td>\n",
       "      <td> NaN</td>\n",
       "      <td>NaN</td>\n",
       "    </tr>\n",
       "  </tbody>\n",
       "</table>\n",
       "</div>"
      ],
      "text/plain": [
       "       id                                               name    type gender  \\\n",
       "0  578352                                      Gustav Ruppke  Person    NaN   \n",
       "1  371203                                        Pete Moutso  Person    NaN   \n",
       "2  153193                             The High Level Ranters   Group    NaN   \n",
       "3  449914  Sun Wenyan, Cao Jifang, Jin Zhenyao, Wang Wei,...   Group    NaN   \n",
       "4  449915               Sun Wenyan, Huo Ruowei, and Dai Ning   Group    NaN   \n",
       "\n",
       "   area_id  \n",
       "0      NaN  \n",
       "1      NaN  \n",
       "2      NaN  \n",
       "3      NaN  \n",
       "4      NaN  "
      ]
     },
     "execution_count": 9,
     "metadata": {},
     "output_type": "execute_result"
    }
   ],
   "source": [
    "dfArtist.head()"
   ]
  },
  {
   "cell_type": "code",
   "execution_count": 11,
   "metadata": {
    "collapsed": false
   },
   "outputs": [
    {
     "name": "stdout",
     "output_type": "stream",
     "text": [
      "<class 'pandas.core.frame.DataFrame'>\n",
      "Int64Index: 621278 entries, 0 to 621277\n",
      "Data columns (total 5 columns):\n",
      "id         621278 non-null int64\n",
      "name       621274 non-null object\n",
      "type       621278 non-null object\n",
      "gender     207316 non-null object\n",
      "area_id    281496 non-null float64\n",
      "dtypes: float64(1), int64(1), object(3)\n",
      "memory usage: 28.4+ MB\n"
     ]
    }
   ],
   "source": [
    "dfArtist.info()"
   ]
  },
  {
   "cell_type": "code",
   "execution_count": 17,
   "metadata": {
    "collapsed": false
   },
   "outputs": [
    {
     "data": {
      "text/html": [
       "<div style=\"max-height:1000px;max-width:1500px;overflow:auto;\">\n",
       "<table border=\"1\" class=\"dataframe\">\n",
       "  <thead>\n",
       "    <tr style=\"text-align: right;\">\n",
       "      <th></th>\n",
       "      <th>id</th>\n",
       "      <th>name</th>\n",
       "      <th>type</th>\n",
       "      <th>gender</th>\n",
       "      <th>area_id</th>\n",
       "    </tr>\n",
       "  </thead>\n",
       "  <tbody>\n",
       "    <tr>\n",
       "      <th>589153</th>\n",
       "      <td> 422058</td>\n",
       "      <td> Beyoncé</td>\n",
       "      <td> Person</td>\n",
       "      <td> Female</td>\n",
       "      <td> 222</td>\n",
       "    </tr>\n",
       "  </tbody>\n",
       "</table>\n",
       "</div>"
      ],
      "text/plain": [
       "            id     name    type  gender  area_id\n",
       "589153  422058  Beyoncé  Person  Female      222"
      ]
     },
     "execution_count": 17,
     "metadata": {},
     "output_type": "execute_result"
    }
   ],
   "source": [
    "dfArtist[dfArtist['name'] == 'Beyoncé']"
   ]
  },
  {
   "cell_type": "code",
   "execution_count": 21,
   "metadata": {
    "collapsed": false
   },
   "outputs": [],
   "source": [
    "dfRecording = pd.read_csv('data/recording_data.csv', names = ['id', 'name', 'artist_credit', 'art_id'])"
   ]
  },
  {
   "cell_type": "code",
   "execution_count": 22,
   "metadata": {
    "collapsed": false
   },
   "outputs": [
    {
     "data": {
      "text/html": [
       "<div style=\"max-height:1000px;max-width:1500px;overflow:auto;\">\n",
       "<table border=\"1\" class=\"dataframe\">\n",
       "  <thead>\n",
       "    <tr style=\"text-align: right;\">\n",
       "      <th></th>\n",
       "      <th>id</th>\n",
       "      <th>name</th>\n",
       "      <th>artist_credit</th>\n",
       "      <th>art_id</th>\n",
       "    </tr>\n",
       "  </thead>\n",
       "  <tbody>\n",
       "    <tr>\n",
       "      <th>0</th>\n",
       "      <td>   152670</td>\n",
       "      <td>      This Is... House (bonus mix)</td>\n",
       "      <td> 1</td>\n",
       "      <td> 1</td>\n",
       "    </tr>\n",
       "    <tr>\n",
       "      <th>1</th>\n",
       "      <td> 12663400</td>\n",
       "      <td>        Șapte văi și-o vale adâncă</td>\n",
       "      <td> 1</td>\n",
       "      <td> 1</td>\n",
       "    </tr>\n",
       "    <tr>\n",
       "      <th>2</th>\n",
       "      <td>   182669</td>\n",
       "      <td>   This Is... Trip Hop 2 Bonus Mix</td>\n",
       "      <td> 1</td>\n",
       "      <td> 1</td>\n",
       "    </tr>\n",
       "    <tr>\n",
       "      <th>3</th>\n",
       "      <td>  8978829</td>\n",
       "      <td>                         Allah Hoo</td>\n",
       "      <td> 1</td>\n",
       "      <td> 1</td>\n",
       "    </tr>\n",
       "    <tr>\n",
       "      <th>4</th>\n",
       "      <td>   225254</td>\n",
       "      <td> X-Mix-2: Destination Planet Dream</td>\n",
       "      <td> 1</td>\n",
       "      <td> 1</td>\n",
       "    </tr>\n",
       "  </tbody>\n",
       "</table>\n",
       "</div>"
      ],
      "text/plain": [
       "         id                               name  artist_credit  art_id\n",
       "0    152670       This Is... House (bonus mix)              1       1\n",
       "1  12663400         Șapte văi și-o vale adâncă              1       1\n",
       "2    182669    This Is... Trip Hop 2 Bonus Mix              1       1\n",
       "3   8978829                          Allah Hoo              1       1\n",
       "4    225254  X-Mix-2: Destination Planet Dream              1       1"
      ]
     },
     "execution_count": 22,
     "metadata": {},
     "output_type": "execute_result"
    }
   ],
   "source": [
    "dfRecording.head()"
   ]
  },
  {
   "cell_type": "code",
   "execution_count": 23,
   "metadata": {
    "collapsed": false
   },
   "outputs": [
    {
     "name": "stdout",
     "output_type": "stream",
     "text": [
      "<class 'pandas.core.frame.DataFrame'>\n",
      "Int64Index: 14532840 entries, 0 to 14532839\n",
      "Data columns (total 4 columns):\n",
      "id               int64\n",
      "name             object\n",
      "artist_credit    int64\n",
      "art_id           int64\n",
      "dtypes: int64(3), object(1)\n",
      "memory usage: 554.4+ MB\n"
     ]
    }
   ],
   "source": [
    "dfRecording.info()"
   ]
  },
  {
   "cell_type": "code",
   "execution_count": 27,
   "metadata": {
    "collapsed": false
   },
   "outputs": [
    {
     "data": {
      "text/html": [
       "<div style=\"max-height:1000px;max-width:1500px;overflow:auto;\">\n",
       "<table border=\"1\" class=\"dataframe\">\n",
       "  <thead>\n",
       "    <tr style=\"text-align: right;\">\n",
       "      <th></th>\n",
       "      <th>id</th>\n",
       "      <th>name</th>\n",
       "      <th>artist_credit</th>\n",
       "      <th>art_id</th>\n",
       "    </tr>\n",
       "  </thead>\n",
       "  <tbody>\n",
       "  </tbody>\n",
       "</table>\n",
       "</div>"
      ],
      "text/plain": [
       "Empty DataFrame\n",
       "Columns: [id, name, artist_credit, art_id]\n",
       "Index: []"
      ]
     },
     "execution_count": 27,
     "metadata": {},
     "output_type": "execute_result"
    }
   ],
   "source": [
    "dfRecording[pd.isnull(dfRecording['art_id'])].head()"
   ]
  },
  {
   "cell_type": "code",
   "execution_count": 28,
   "metadata": {
    "collapsed": true
   },
   "outputs": [],
   "source": [
    "dfLabel = pd.read_csv('data/label_data.csv', names = ['id', 'name', 'label_type', 'area_id'])"
   ]
  },
  {
   "cell_type": "code",
   "execution_count": 29,
   "metadata": {
    "collapsed": false
   },
   "outputs": [
    {
     "data": {
      "text/html": [
       "<div style=\"max-height:1000px;max-width:1500px;overflow:auto;\">\n",
       "<table border=\"1\" class=\"dataframe\">\n",
       "  <thead>\n",
       "    <tr style=\"text-align: right;\">\n",
       "      <th></th>\n",
       "      <th>id</th>\n",
       "      <th>name</th>\n",
       "      <th>label_type</th>\n",
       "      <th>area_id</th>\n",
       "    </tr>\n",
       "  </thead>\n",
       "  <tbody>\n",
       "    <tr>\n",
       "      <th>0</th>\n",
       "      <td>     1</td>\n",
       "      <td>     Deleted Label</td>\n",
       "      <td>                 NaN</td>\n",
       "      <td> NaN</td>\n",
       "    </tr>\n",
       "    <tr>\n",
       "      <th>1</th>\n",
       "      <td>     2</td>\n",
       "      <td>    Certificate 18</td>\n",
       "      <td> Original Production</td>\n",
       "      <td> 221</td>\n",
       "    </tr>\n",
       "    <tr>\n",
       "      <th>2</th>\n",
       "      <td>   898</td>\n",
       "      <td>         Schematic</td>\n",
       "      <td> Original Production</td>\n",
       "      <td> 222</td>\n",
       "    </tr>\n",
       "    <tr>\n",
       "      <th>3</th>\n",
       "      <td> 29683</td>\n",
       "      <td>              Xunk</td>\n",
       "      <td> Original Production</td>\n",
       "      <td>  73</td>\n",
       "    </tr>\n",
       "    <tr>\n",
       "      <th>4</th>\n",
       "      <td>    15</td>\n",
       "      <td> Neurot Recordings</td>\n",
       "      <td> Original Production</td>\n",
       "      <td> 222</td>\n",
       "    </tr>\n",
       "  </tbody>\n",
       "</table>\n",
       "</div>"
      ],
      "text/plain": [
       "      id               name           label_type  area_id\n",
       "0      1      Deleted Label                  NaN      NaN\n",
       "1      2     Certificate 18  Original Production      221\n",
       "2    898          Schematic  Original Production      222\n",
       "3  29683               Xunk  Original Production       73\n",
       "4     15  Neurot Recordings  Original Production      222"
      ]
     },
     "execution_count": 29,
     "metadata": {},
     "output_type": "execute_result"
    }
   ],
   "source": [
    "dfLabel.head()"
   ]
  },
  {
   "cell_type": "code",
   "execution_count": 30,
   "metadata": {
    "collapsed": false
   },
   "outputs": [
    {
     "name": "stdout",
     "output_type": "stream",
     "text": [
      "<class 'pandas.core.frame.DataFrame'>\n",
      "Int64Index: 82093 entries, 0 to 82092\n",
      "Data columns (total 4 columns):\n",
      "id            82093 non-null int64\n",
      "name          82093 non-null object\n",
      "label_type    38243 non-null object\n",
      "area_id       55568 non-null float64\n",
      "dtypes: float64(1), int64(1), object(2)\n",
      "memory usage: 3.1+ MB\n"
     ]
    }
   ],
   "source": [
    "dfLabel.info()"
   ]
  },
  {
   "cell_type": "code",
   "execution_count": 31,
   "metadata": {
    "collapsed": true
   },
   "outputs": [],
   "source": [
    "dfPlace = pd.read_csv('data/place_data.csv', names = ['area_id', 'area_name', 'place_id', 'place_name', 'place_address', 'place_coordinates'])"
   ]
  },
  {
   "cell_type": "code",
   "execution_count": 32,
   "metadata": {
    "collapsed": false
   },
   "outputs": [
    {
     "data": {
      "text/html": [
       "<div style=\"max-height:1000px;max-width:1500px;overflow:auto;\">\n",
       "<table border=\"1\" class=\"dataframe\">\n",
       "  <thead>\n",
       "    <tr style=\"text-align: right;\">\n",
       "      <th></th>\n",
       "      <th>area_id</th>\n",
       "      <th>area_name</th>\n",
       "      <th>place_id</th>\n",
       "      <th>place_name</th>\n",
       "      <th>place_address</th>\n",
       "      <th>place_coordinates</th>\n",
       "    </tr>\n",
       "  </thead>\n",
       "  <tbody>\n",
       "    <tr>\n",
       "      <th>0</th>\n",
       "      <td>  7710</td>\n",
       "      <td>                  Munich</td>\n",
       "      <td> 4247</td>\n",
       "      <td> Hochschule für Musik: Großer Konzertsaal</td>\n",
       "      <td>           Arcisstraße 12, 80333 München</td>\n",
       "      <td>                   NaN</td>\n",
       "    </tr>\n",
       "    <tr>\n",
       "      <th>1</th>\n",
       "      <td>   326</td>\n",
       "      <td>                  Berlin</td>\n",
       "      <td> 2657</td>\n",
       "      <td>                         Lovelite Studios</td>\n",
       "      <td>                                     NaN</td>\n",
       "      <td>                   NaN</td>\n",
       "    </tr>\n",
       "    <tr>\n",
       "      <th>2</th>\n",
       "      <td> 13049</td>\n",
       "      <td> Norrköping Municipality</td>\n",
       "      <td> 1164</td>\n",
       "      <td>         Louis de Geer konsert &amp; kongress</td>\n",
       "      <td> Dalsgatan 15, 602 32 Norrköping, Sweden</td>\n",
       "      <td> (58.588056,16.184444)</td>\n",
       "    </tr>\n",
       "    <tr>\n",
       "      <th>3</th>\n",
       "      <td>   326</td>\n",
       "      <td>                  Berlin</td>\n",
       "      <td> 1170</td>\n",
       "      <td>       Volksbühne am Rosa‐Luxemburg‐Platz</td>\n",
       "      <td>          Linienstraße 227, 10178 Berlin</td>\n",
       "      <td> (52.526944,13.411944)</td>\n",
       "    </tr>\n",
       "    <tr>\n",
       "      <th>4</th>\n",
       "      <td>  7717</td>\n",
       "      <td>                  Bochum</td>\n",
       "      <td>  795</td>\n",
       "      <td>                                   Matrix</td>\n",
       "      <td>           Hauptstraße 200, 44892 Bochum</td>\n",
       "      <td>    (51.47132,7.32409)</td>\n",
       "    </tr>\n",
       "  </tbody>\n",
       "</table>\n",
       "</div>"
      ],
      "text/plain": [
       "   area_id                area_name  place_id  \\\n",
       "0     7710                   Munich      4247   \n",
       "1      326                   Berlin      2657   \n",
       "2    13049  Norrköping Municipality      1164   \n",
       "3      326                   Berlin      1170   \n",
       "4     7717                   Bochum       795   \n",
       "\n",
       "                                 place_name  \\\n",
       "0  Hochschule für Musik: Großer Konzertsaal   \n",
       "1                          Lovelite Studios   \n",
       "2          Louis de Geer konsert & kongress   \n",
       "3        Volksbühne am Rosa‐Luxemburg‐Platz   \n",
       "4                                    Matrix   \n",
       "\n",
       "                             place_address      place_coordinates  \n",
       "0            Arcisstraße 12, 80333 München                    NaN  \n",
       "1                                      NaN                    NaN  \n",
       "2  Dalsgatan 15, 602 32 Norrköping, Sweden  (58.588056,16.184444)  \n",
       "3           Linienstraße 227, 10178 Berlin  (52.526944,13.411944)  \n",
       "4            Hauptstraße 200, 44892 Bochum     (51.47132,7.32409)  "
      ]
     },
     "execution_count": 32,
     "metadata": {},
     "output_type": "execute_result"
    }
   ],
   "source": [
    "dfPlace.head()"
   ]
  },
  {
   "cell_type": "code",
   "execution_count": 33,
   "metadata": {
    "collapsed": false
   },
   "outputs": [
    {
     "name": "stdout",
     "output_type": "stream",
     "text": [
      "<class 'pandas.core.frame.DataFrame'>\n",
      "Int64Index: 98781 entries, 0 to 98780\n",
      "Data columns (total 6 columns):\n",
      "area_id              98420 non-null float64\n",
      "area_name            98420 non-null object\n",
      "place_id             4958 non-null float64\n",
      "place_name           4958 non-null object\n",
      "place_address        3047 non-null object\n",
      "place_coordinates    2534 non-null object\n",
      "dtypes: float64(2), object(4)\n",
      "memory usage: 5.3+ MB\n"
     ]
    }
   ],
   "source": [
    "dfPlace.info()"
   ]
  },
  {
   "cell_type": "code",
   "execution_count": 35,
   "metadata": {
    "collapsed": false
   },
   "outputs": [],
   "source": [
    "dfRecording2Recording = pd.read_csv('data/recording_to_recording.csv', names = ['entity0', 'entity1', 'link_name', 'link_phrase', 'reverse_link_phrase'])"
   ]
  },
  {
   "cell_type": "code",
   "execution_count": 36,
   "metadata": {
    "collapsed": false
   },
   "outputs": [
    {
     "data": {
      "text/html": [
       "<div style=\"max-height:1000px;max-width:1500px;overflow:auto;\">\n",
       "<table border=\"1\" class=\"dataframe\">\n",
       "  <thead>\n",
       "    <tr style=\"text-align: right;\">\n",
       "      <th></th>\n",
       "      <th>entity0</th>\n",
       "      <th>entity1</th>\n",
       "      <th>link_name</th>\n",
       "      <th>link_phrase</th>\n",
       "      <th>reverse_link_phrase</th>\n",
       "    </tr>\n",
       "  </thead>\n",
       "  <tbody>\n",
       "    <tr>\n",
       "      <th>0</th>\n",
       "      <td>  153812</td>\n",
       "      <td>  178682</td>\n",
       "      <td> remaster</td>\n",
       "      <td> remaster of</td>\n",
       "      <td> remasters</td>\n",
       "    </tr>\n",
       "    <tr>\n",
       "      <th>1</th>\n",
       "      <td>  166623</td>\n",
       "      <td> 2565982</td>\n",
       "      <td> remaster</td>\n",
       "      <td> remaster of</td>\n",
       "      <td> remasters</td>\n",
       "    </tr>\n",
       "    <tr>\n",
       "      <th>2</th>\n",
       "      <td> 6484142</td>\n",
       "      <td>  179450</td>\n",
       "      <td>    remix</td>\n",
       "      <td>    remix of</td>\n",
       "      <td>   remixes</td>\n",
       "    </tr>\n",
       "    <tr>\n",
       "      <th>3</th>\n",
       "      <td>  178555</td>\n",
       "      <td> 6792954</td>\n",
       "      <td> remaster</td>\n",
       "      <td> remaster of</td>\n",
       "      <td> remasters</td>\n",
       "    </tr>\n",
       "    <tr>\n",
       "      <th>4</th>\n",
       "      <td>  178556</td>\n",
       "      <td>  153811</td>\n",
       "      <td> remaster</td>\n",
       "      <td> remaster of</td>\n",
       "      <td> remasters</td>\n",
       "    </tr>\n",
       "  </tbody>\n",
       "</table>\n",
       "</div>"
      ],
      "text/plain": [
       "   entity0  entity1 link_name  link_phrase reverse_link_phrase\n",
       "0   153812   178682  remaster  remaster of           remasters\n",
       "1   166623  2565982  remaster  remaster of           remasters\n",
       "2  6484142   179450     remix     remix of             remixes\n",
       "3   178555  6792954  remaster  remaster of           remasters\n",
       "4   178556   153811  remaster  remaster of           remasters"
      ]
     },
     "execution_count": 36,
     "metadata": {},
     "output_type": "execute_result"
    }
   ],
   "source": [
    "dfRecording2Recording.head()"
   ]
  },
  {
   "cell_type": "code",
   "execution_count": 37,
   "metadata": {
    "collapsed": false
   },
   "outputs": [
    {
     "name": "stdout",
     "output_type": "stream",
     "text": [
      "<class 'pandas.core.frame.DataFrame'>\n",
      "Int64Index: 37468 entries, 0 to 37467\n",
      "Data columns (total 5 columns):\n",
      "entity0                37468 non-null int64\n",
      "entity1                37468 non-null int64\n",
      "link_name              37468 non-null object\n",
      "link_phrase            37468 non-null object\n",
      "reverse_link_phrase    37468 non-null object\n",
      "dtypes: int64(2), object(3)\n",
      "memory usage: 1.7+ MB\n"
     ]
    }
   ],
   "source": [
    "dfRecording2Recording.info()"
   ]
  },
  {
   "cell_type": "code",
   "execution_count": 39,
   "metadata": {
    "collapsed": false
   },
   "outputs": [
    {
     "data": {
      "text/plain": [
       "31697"
      ]
     },
     "execution_count": 39,
     "metadata": {},
     "output_type": "execute_result"
    }
   ],
   "source": [
    "len(dfRecording2Recording['entity0'].unique())"
   ]
  },
  {
   "cell_type": "code",
   "execution_count": 44,
   "metadata": {
    "collapsed": false
   },
   "outputs": [
    {
     "data": {
      "text/plain": [
       "1513"
      ]
     },
     "execution_count": 44,
     "metadata": {},
     "output_type": "execute_result"
    }
   ],
   "source": [
    "sum(dfRecording2Recording['link_name'] == 'first track release')"
   ]
  },
  {
   "cell_type": "code",
   "execution_count": 45,
   "metadata": {
    "collapsed": false
   },
   "outputs": [
    {
     "data": {
      "text/html": [
       "<div style=\"max-height:1000px;max-width:1500px;overflow:auto;\">\n",
       "<table border=\"1\" class=\"dataframe\">\n",
       "  <thead>\n",
       "    <tr style=\"text-align: right;\">\n",
       "      <th></th>\n",
       "      <th>entity0</th>\n",
       "      <th>entity1</th>\n",
       "      <th>link_name</th>\n",
       "      <th>link_phrase</th>\n",
       "      <th>reverse_link_phrase</th>\n",
       "    </tr>\n",
       "  </thead>\n",
       "  <tbody>\n",
       "    <tr>\n",
       "      <th>4228 </th>\n",
       "      <td> 9719573</td>\n",
       "      <td> 12968166</td>\n",
       "      <td> first track release</td>\n",
       "      <td> later releases</td>\n",
       "      <td> earliest release</td>\n",
       "    </tr>\n",
       "    <tr>\n",
       "      <th>8628 </th>\n",
       "      <td> 9488032</td>\n",
       "      <td> 12949095</td>\n",
       "      <td> first track release</td>\n",
       "      <td> later releases</td>\n",
       "      <td> earliest release</td>\n",
       "    </tr>\n",
       "    <tr>\n",
       "      <th>10163</th>\n",
       "      <td>  179448</td>\n",
       "      <td>   828029</td>\n",
       "      <td> first track release</td>\n",
       "      <td> later releases</td>\n",
       "      <td> earliest release</td>\n",
       "    </tr>\n",
       "    <tr>\n",
       "      <th>10164</th>\n",
       "      <td>   75897</td>\n",
       "      <td>  1507011</td>\n",
       "      <td> first track release</td>\n",
       "      <td> later releases</td>\n",
       "      <td> earliest release</td>\n",
       "    </tr>\n",
       "    <tr>\n",
       "      <th>10165</th>\n",
       "      <td>   75904</td>\n",
       "      <td>  1507015</td>\n",
       "      <td> first track release</td>\n",
       "      <td> later releases</td>\n",
       "      <td> earliest release</td>\n",
       "    </tr>\n",
       "  </tbody>\n",
       "</table>\n",
       "</div>"
      ],
      "text/plain": [
       "       entity0   entity1            link_name     link_phrase  \\\n",
       "4228   9719573  12968166  first track release  later releases   \n",
       "8628   9488032  12949095  first track release  later releases   \n",
       "10163   179448    828029  first track release  later releases   \n",
       "10164    75897   1507011  first track release  later releases   \n",
       "10165    75904   1507015  first track release  later releases   \n",
       "\n",
       "      reverse_link_phrase  \n",
       "4228     earliest release  \n",
       "8628     earliest release  \n",
       "10163    earliest release  \n",
       "10164    earliest release  \n",
       "10165    earliest release  "
      ]
     },
     "execution_count": 45,
     "metadata": {},
     "output_type": "execute_result"
    }
   ],
   "source": [
    "dfRecording2Recording[dfRecording2Recording['link_name'] == 'first track release'].head()"
   ]
  },
  {
   "cell_type": "code",
   "execution_count": 50,
   "metadata": {
    "collapsed": false
   },
   "outputs": [
    {
     "data": {
      "text/html": [
       "<div style=\"max-height:1000px;max-width:1500px;overflow:auto;\">\n",
       "<table border=\"1\" class=\"dataframe\">\n",
       "  <thead>\n",
       "    <tr style=\"text-align: right;\">\n",
       "      <th></th>\n",
       "      <th>entity0</th>\n",
       "      <th>entity1</th>\n",
       "      <th>link_name</th>\n",
       "      <th>link_phrase</th>\n",
       "      <th>reverse_link_phrase</th>\n",
       "    </tr>\n",
       "  </thead>\n",
       "  <tbody>\n",
       "    <tr>\n",
       "      <th>4228</th>\n",
       "      <td> 9719573</td>\n",
       "      <td> 12968166</td>\n",
       "      <td> first track release</td>\n",
       "      <td> later releases</td>\n",
       "      <td> earliest release</td>\n",
       "    </tr>\n",
       "  </tbody>\n",
       "</table>\n",
       "</div>"
      ],
      "text/plain": [
       "      entity0   entity1            link_name     link_phrase  \\\n",
       "4228  9719573  12968166  first track release  later releases   \n",
       "\n",
       "     reverse_link_phrase  \n",
       "4228    earliest release  "
      ]
     },
     "execution_count": 50,
     "metadata": {},
     "output_type": "execute_result"
    }
   ],
   "source": [
    "dfRecording2Recording[(dfRecording2Recording['entity0'] == 9719573) | (dfRecording2Recording['entity1'] == 9719573)]"
   ]
  },
  {
   "cell_type": "code",
   "execution_count": 53,
   "metadata": {
    "collapsed": false
   },
   "outputs": [
    {
     "data": {
      "text/plain": [
       "12727038    38\n",
       "14091893    27\n",
       "15678061    26\n",
       "12080177    25\n",
       "10424114    24\n",
       "6313527     24\n",
       "13789261    23\n",
       "191673      23\n",
       "4831190     22\n",
       "5644428     22\n",
       "11789170    21\n",
       "14980817    21\n",
       "13482360    20\n",
       "242771      20\n",
       "12205891    19\n",
       "...\n",
       "2836060     1\n",
       "13655647    1\n",
       "12564066    1\n",
       "8490597     1\n",
       "4580968     1\n",
       "13073873    1\n",
       "181868      1\n",
       "14886512    1\n",
       "996978      1\n",
       "5572212     1\n",
       "14436819    1\n",
       "13049463    1\n",
       "13395576    1\n",
       "14513786    1\n",
       "11667457    1\n",
       "Length: 31697, dtype: int64"
      ]
     },
     "execution_count": 53,
     "metadata": {},
     "output_type": "execute_result"
    }
   ],
   "source": [
    "dfRecording2Recording['entity0'].value_counts()\n",
    "#plt.hist(dfRecording2Recording['entity0'].value_counts())"
   ]
  },
  {
   "cell_type": "code",
   "execution_count": 67,
   "metadata": {
    "collapsed": false
   },
   "outputs": [],
   "source": [
    "counts = dfRecording2Recording['entity0'][dfRecording2Recording['link_name'] == 'samples material'].value_counts()"
   ]
  },
  {
   "cell_type": "code",
   "execution_count": 57,
   "metadata": {
    "collapsed": false
   },
   "outputs": [
    {
     "data": {
      "text/html": [
       "<div style=\"max-height:1000px;max-width:1500px;overflow:auto;\">\n",
       "<table border=\"1\" class=\"dataframe\">\n",
       "  <thead>\n",
       "    <tr style=\"text-align: right;\">\n",
       "      <th></th>\n",
       "      <th>entity0</th>\n",
       "      <th>entity1</th>\n",
       "      <th>link_name</th>\n",
       "      <th>link_phrase</th>\n",
       "      <th>reverse_link_phrase</th>\n",
       "    </tr>\n",
       "  </thead>\n",
       "  <tbody>\n",
       "    <tr>\n",
       "      <th>4454</th>\n",
       "      <td> 7924799</td>\n",
       "      <td> 1283897</td>\n",
       "      <td> samples material</td>\n",
       "      <td> {additional} samples</td>\n",
       "      <td> {additional:additionally} sampled by</td>\n",
       "    </tr>\n",
       "  </tbody>\n",
       "</table>\n",
       "</div>"
      ],
      "text/plain": [
       "      entity0  entity1         link_name           link_phrase  \\\n",
       "4454  7924799  1283897  samples material  {additional} samples   \n",
       "\n",
       "                       reverse_link_phrase  \n",
       "4454  {additional:additionally} sampled by  "
      ]
     },
     "execution_count": 57,
     "metadata": {},
     "output_type": "execute_result"
    }
   ],
   "source": [
    "dfRecording2Recording[(dfRecording2Recording['entity0'] == 7924799)]"
   ]
  },
  {
   "cell_type": "code",
   "execution_count": 80,
   "metadata": {
    "collapsed": false
   },
   "outputs": [
    {
     "data": {
      "text/plain": [
       "<function matplotlib.pyplot.show>"
      ]
     },
     "execution_count": 80,
     "metadata": {},
     "output_type": "execute_result"
    },
    {
     "data": {
      "image/png": "[encoded data removed]",
      "text/plain": [
       "<matplotlib.figure.Figure at 0x11695b990>"
      ]
     },
     "metadata": {},
     "output_type": "display_data"
    }
   ],
   "source": [
    "plt.hist(list(counts))\n",
    "plt.xlim([0,10])\n",
    "plt.xticks(range(11))\n",
    "plt.show"
   ]
  },
  {
   "cell_type": "code",
   "execution_count": null,
   "metadata": {
    "collapsed": true
   },
   "outputs": [],
   "source": []
  }
 ],
 "metadata": {
  "kernelspec": {
   "display_name": "Python 2",
   "language": "python",
   "name": "python2"
  },
  "language_info": {
   "codemirror_mode": {
    "name": "ipython",
    "version": 2
   },
   "file_extension": ".py",
   "mimetype": "text/x-python",
   "name": "python",
   "nbconvert_exporter": "python",
   "pygments_lexer": "ipython2",
   "version": "2.7.9"
  }
 },
 "nbformat": 4,
 "nbformat_minor": 0
}
